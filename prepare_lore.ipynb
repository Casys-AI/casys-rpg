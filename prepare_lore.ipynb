{
 "cells": [
  {
   "cell_type": "code",
   "execution_count": 3,
   "metadata": {},
   "outputs": [
    {
     "name": "stdout",
     "output_type": "stream",
     "text": [
      "Successfully processed 3 chapters\n"
     ]
    }
   ],
   "source": [
    "import os\n",
    "import re\n",
    "\n",
    "# Définir les chemins\n",
    "notebook_path = os.getcwd()  # Use current working directory instead of __file__\n",
    "data_dir = os.path.join(notebook_path, 'data')\n",
    "instructions_dir = os.path.join(data_dir, 'instructions')\n",
    "lore_file_path = os.path.join(instructions_dir, 'Lore.md')  # Fixed path\n",
    "trace_file_path = os.path.join(instructions_dir, 'trace.md')\n",
    "\n",
    "# Créer les répertoires requis\n",
    "os.makedirs(instructions_dir, exist_ok=True)\n",
    "\n",
    "try:\n",
    "    # Lire le contenu du fichier Lore.md\n",
    "    with open(lore_file_path, 'r', encoding='utf-8') as f:\n",
    "        lore_content = f.read()\n",
    "\n",
    "    # Extraire les chapitres avec regex en utilisant les titres '#'\n",
    "    chapter_pattern = re.compile(r'#\\s+(.*?)(?=\\s+#|$)', re.DOTALL)\n",
    "    chapters = chapter_pattern.findall(lore_content)\n",
    "\n",
    "    # Sauvegarder chaque chapitre dans un fichier séparé\n",
    "    for i, chapter in enumerate(chapters):\n",
    "        chapter_file_path = os.path.join(instructions_dir, f'Chapter_{i+1}.md')\n",
    "        with open(chapter_file_path, 'w', encoding='utf-8') as f:\n",
    "            f.write(f\"# {chapter.strip()}\")\n",
    "\n",
    "    # Mettre à jour le fichier trace.md\n",
    "    with open(trace_file_path, 'a', encoding='utf-8') as trace_file:\n",
    "        trace_file.write(f\"Processed Lore.md into {len(chapters)} chapters.\\n\")\n",
    "        trace_file.write(f\"Current file: Chapter_1.md\\n\")\n",
    "        \n",
    "    print(f\"Successfully processed {len(chapters)} chapters\")\n",
    "\n",
    "except Exception as e:\n",
    "    print(f\"Error: {str(e)}\")\n"
   ]
  }
 ],
 "metadata": {
  "kernelspec": {
   "display_name": ".venv",
   "language": "python",
   "name": "python3"
  },
  "language_info": {
   "codemirror_mode": {
    "name": "ipython",
    "version": 3
   },
   "file_extension": ".py",
   "mimetype": "text/x-python",
   "name": "python",
   "nbconvert_exporter": "python",
   "pygments_lexer": "ipython3",
   "version": "3.9.13"
  }
 },
 "nbformat": 4,
 "nbformat_minor": 2
}
